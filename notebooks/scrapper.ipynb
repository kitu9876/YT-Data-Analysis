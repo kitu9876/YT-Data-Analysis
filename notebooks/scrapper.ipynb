{
 "cells": [
  {
   "cell_type": "code",
   "execution_count": 2,
   "metadata": {},
   "outputs": [
    {
     "name": "stdout",
     "output_type": "stream",
     "text": [
      "Requirement already satisfied: google-api-python-client in c:\\users\\admin\\anaconda3\\lib\\site-packages (2.97.0)\n",
      "Requirement already satisfied: httplib2<1.dev0,>=0.15.0 in c:\\users\\admin\\anaconda3\\lib\\site-packages (from google-api-python-client) (0.22.0)\n",
      "Requirement already satisfied: google-auth<3.0.0.dev0,>=1.19.0 in c:\\users\\admin\\anaconda3\\lib\\site-packages (from google-api-python-client) (2.22.0)\n",
      "Requirement already satisfied: google-auth-httplib2>=0.1.0 in c:\\users\\admin\\anaconda3\\lib\\site-packages (from google-api-python-client) (0.1.0)\n",
      "Requirement already satisfied: google-api-core!=2.0.*,!=2.1.*,!=2.2.*,!=2.3.0,<3.0.0.dev0,>=1.31.5 in c:\\users\\admin\\anaconda3\\lib\\site-packages (from google-api-python-client) (2.11.1)\n",
      "Requirement already satisfied: uritemplate<5,>=3.0.1 in c:\\users\\admin\\anaconda3\\lib\\site-packages (from google-api-python-client) (4.1.1)\n",
      "Requirement already satisfied: googleapis-common-protos<2.0.dev0,>=1.56.2 in c:\\users\\admin\\anaconda3\\lib\\site-packages (from google-api-core!=2.0.*,!=2.1.*,!=2.2.*,!=2.3.0,<3.0.0.dev0,>=1.31.5->google-api-python-client) (1.60.0)\n",
      "Requirement already satisfied: protobuf!=3.20.0,!=3.20.1,!=4.21.0,!=4.21.1,!=4.21.2,!=4.21.3,!=4.21.4,!=4.21.5,<5.0.0.dev0,>=3.19.5 in c:\\users\\admin\\anaconda3\\lib\\site-packages (from google-api-core!=2.0.*,!=2.1.*,!=2.2.*,!=2.3.0,<3.0.0.dev0,>=1.31.5->google-api-python-client) (4.24.2)\n",
      "Requirement already satisfied: requests<3.0.0.dev0,>=2.18.0 in c:\\users\\admin\\anaconda3\\lib\\site-packages (from google-api-core!=2.0.*,!=2.1.*,!=2.2.*,!=2.3.0,<3.0.0.dev0,>=1.31.5->google-api-python-client) (2.28.2)\n",
      "Requirement already satisfied: cachetools<6.0,>=2.0.0 in c:\\users\\admin\\anaconda3\\lib\\site-packages (from google-auth<3.0.0.dev0,>=1.19.0->google-api-python-client) (5.3.1)\n",
      "Requirement already satisfied: pyasn1-modules>=0.2.1 in c:\\users\\admin\\anaconda3\\lib\\site-packages (from google-auth<3.0.0.dev0,>=1.19.0->google-api-python-client) (0.2.8)\n",
      "Requirement already satisfied: rsa<5,>=3.1.4 in c:\\users\\admin\\anaconda3\\lib\\site-packages (from google-auth<3.0.0.dev0,>=1.19.0->google-api-python-client) (4.9)\n",
      "Requirement already satisfied: six>=1.9.0 in c:\\users\\admin\\anaconda3\\lib\\site-packages (from google-auth<3.0.0.dev0,>=1.19.0->google-api-python-client) (1.16.0)\n",
      "Requirement already satisfied: urllib3<2.0 in c:\\users\\admin\\anaconda3\\lib\\site-packages (from google-auth<3.0.0.dev0,>=1.19.0->google-api-python-client) (1.26.16)\n",
      "Requirement already satisfied: pyparsing!=3.0.0,!=3.0.1,!=3.0.2,!=3.0.3,<4,>=2.4.2 in c:\\users\\admin\\anaconda3\\lib\\site-packages (from httplib2<1.dev0,>=0.15.0->google-api-python-client) (3.0.9)\n",
      "Requirement already satisfied: pyasn1<0.5.0,>=0.4.6 in c:\\users\\admin\\anaconda3\\lib\\site-packages (from pyasn1-modules>=0.2.1->google-auth<3.0.0.dev0,>=1.19.0->google-api-python-client) (0.4.8)\n",
      "Requirement already satisfied: charset-normalizer<4,>=2 in c:\\users\\admin\\anaconda3\\lib\\site-packages (from requests<3.0.0.dev0,>=2.18.0->google-api-core!=2.0.*,!=2.1.*,!=2.2.*,!=2.3.0,<3.0.0.dev0,>=1.31.5->google-api-python-client) (2.0.4)\n",
      "Requirement already satisfied: idna<4,>=2.5 in c:\\users\\admin\\anaconda3\\lib\\site-packages (from requests<3.0.0.dev0,>=2.18.0->google-api-core!=2.0.*,!=2.1.*,!=2.2.*,!=2.3.0,<3.0.0.dev0,>=1.31.5->google-api-python-client) (3.4)\n",
      "Requirement already satisfied: certifi>=2017.4.17 in c:\\users\\admin\\anaconda3\\lib\\site-packages (from requests<3.0.0.dev0,>=2.18.0->google-api-core!=2.0.*,!=2.1.*,!=2.2.*,!=2.3.0,<3.0.0.dev0,>=1.31.5->google-api-python-client) (2023.5.7)\n",
      "Note: you may need to restart the kernel to use updated packages.\n"
     ]
    }
   ],
   "source": [
    "pip install --upgrade google-api-python-client"
   ]
  },
  {
   "cell_type": "code",
   "execution_count": 3,
   "metadata": {},
   "outputs": [],
   "source": [
    "from googleapiclient.discovery import build\n",
    "import pandas as pd\n",
    "import seaborn as sns"
   ]
  },
  {
   "cell_type": "code",
   "execution_count": 4,
   "metadata": {},
   "outputs": [
    {
     "ename": "DefaultCredentialsError",
     "evalue": "Your default credentials were not found. To set up Application Default Credentials, see https://cloud.google.com/docs/authentication/external/set-up-adc for more information.",
     "output_type": "error",
     "traceback": [
      "\u001b[1;31m---------------------------------------------------------------------------\u001b[0m",
      "\u001b[1;31mDefaultCredentialsError\u001b[0m                   Traceback (most recent call last)",
      "Cell \u001b[1;32mIn[4], line 3\u001b[0m\n\u001b[0;32m      1\u001b[0m api_key \u001b[39m=\u001b[39m \u001b[39m'\u001b[39m\u001b[39m'\u001b[39m\n\u001b[0;32m      2\u001b[0m channel_id \u001b[39m=\u001b[39m \u001b[39m\"\u001b[39m\u001b[39mUCmFj0ZKQpGWmxW3pcz2U4QQ\u001b[39m\u001b[39m\"\u001b[39m   \n\u001b[1;32m----> 3\u001b[0m youtube\u001b[39m=\u001b[39m build(\u001b[39m'\u001b[39m\u001b[39myoutube\u001b[39m\u001b[39m'\u001b[39m,\u001b[39m'\u001b[39m\u001b[39mv3\u001b[39m\u001b[39m'\u001b[39m,developerKey\u001b[39m=\u001b[39mapi_key) \u001b[39m#created a youtube service \u001b[39;00m\n\u001b[0;32m      4\u001b[0m channel_ids \u001b[39m=\u001b[39m [\u001b[39m\"\u001b[39m\u001b[39mUCnz-ZXXER4jOvuED5trXfEA\u001b[39m\u001b[39m\"\u001b[39m,\u001b[39m\"\u001b[39m\u001b[39mUCjWY5hREA6FFYrthD0rZNIw\u001b[39m\u001b[39m\"\u001b[39m,\u001b[39m\"\u001b[39m\u001b[39mUCBJycsmduvYEL83R_U4JriQ\u001b[39m\u001b[39m\"\u001b[39m,\u001b[39m\"\u001b[39m\u001b[39mUCb1GdqUqArXMQ3RS86lqqOw\u001b[39m\u001b[39m\"\u001b[39m,\n\u001b[0;32m      5\u001b[0m                \u001b[39m\"\u001b[39m\u001b[39mUCiT9RITQ9PW6BhXK0y2jaeg\u001b[39m\u001b[39m\"\u001b[39m]\n",
      "File \u001b[1;32mc:\\Users\\ADMIN\\anaconda3\\Lib\\site-packages\\googleapiclient\\_helpers.py:130\u001b[0m, in \u001b[0;36mpositional.<locals>.positional_decorator.<locals>.positional_wrapper\u001b[1;34m(*args, **kwargs)\u001b[0m\n\u001b[0;32m    128\u001b[0m     \u001b[39melif\u001b[39;00m positional_parameters_enforcement \u001b[39m==\u001b[39m POSITIONAL_WARNING:\n\u001b[0;32m    129\u001b[0m         logger\u001b[39m.\u001b[39mwarning(message)\n\u001b[1;32m--> 130\u001b[0m \u001b[39mreturn\u001b[39;00m wrapped(\u001b[39m*\u001b[39margs, \u001b[39m*\u001b[39m\u001b[39m*\u001b[39mkwargs)\n",
      "File \u001b[1;32mc:\\Users\\ADMIN\\anaconda3\\Lib\\site-packages\\googleapiclient\\discovery.py:298\u001b[0m, in \u001b[0;36mbuild\u001b[1;34m(serviceName, version, http, discoveryServiceUrl, developerKey, model, requestBuilder, credentials, cache_discovery, cache, client_options, adc_cert_path, adc_key_path, num_retries, static_discovery, always_use_jwt_access)\u001b[0m\n\u001b[0;32m    286\u001b[0m \u001b[39mtry\u001b[39;00m:\n\u001b[0;32m    287\u001b[0m     content \u001b[39m=\u001b[39m _retrieve_discovery_doc(\n\u001b[0;32m    288\u001b[0m         requested_url,\n\u001b[0;32m    289\u001b[0m         discovery_http,\n\u001b[1;32m   (...)\u001b[0m\n\u001b[0;32m    296\u001b[0m         static_discovery\u001b[39m=\u001b[39mstatic_discovery,\n\u001b[0;32m    297\u001b[0m     )\n\u001b[1;32m--> 298\u001b[0m     service \u001b[39m=\u001b[39m build_from_document(\n\u001b[0;32m    299\u001b[0m         content,\n\u001b[0;32m    300\u001b[0m         base\u001b[39m=\u001b[39mdiscovery_url,\n\u001b[0;32m    301\u001b[0m         http\u001b[39m=\u001b[39mhttp,\n\u001b[0;32m    302\u001b[0m         developerKey\u001b[39m=\u001b[39mdeveloperKey,\n\u001b[0;32m    303\u001b[0m         model\u001b[39m=\u001b[39mmodel,\n\u001b[0;32m    304\u001b[0m         requestBuilder\u001b[39m=\u001b[39mrequestBuilder,\n\u001b[0;32m    305\u001b[0m         credentials\u001b[39m=\u001b[39mcredentials,\n\u001b[0;32m    306\u001b[0m         client_options\u001b[39m=\u001b[39mclient_options,\n\u001b[0;32m    307\u001b[0m         adc_cert_path\u001b[39m=\u001b[39madc_cert_path,\n\u001b[0;32m    308\u001b[0m         adc_key_path\u001b[39m=\u001b[39madc_key_path,\n\u001b[0;32m    309\u001b[0m         always_use_jwt_access\u001b[39m=\u001b[39malways_use_jwt_access,\n\u001b[0;32m    310\u001b[0m     )\n\u001b[0;32m    311\u001b[0m     \u001b[39mbreak\u001b[39;00m  \u001b[39m# exit if a service was created\u001b[39;00m\n\u001b[0;32m    312\u001b[0m \u001b[39mexcept\u001b[39;00m HttpError \u001b[39mas\u001b[39;00m e:\n",
      "File \u001b[1;32mc:\\Users\\ADMIN\\anaconda3\\Lib\\site-packages\\googleapiclient\\_helpers.py:130\u001b[0m, in \u001b[0;36mpositional.<locals>.positional_decorator.<locals>.positional_wrapper\u001b[1;34m(*args, **kwargs)\u001b[0m\n\u001b[0;32m    128\u001b[0m     \u001b[39melif\u001b[39;00m positional_parameters_enforcement \u001b[39m==\u001b[39m POSITIONAL_WARNING:\n\u001b[0;32m    129\u001b[0m         logger\u001b[39m.\u001b[39mwarning(message)\n\u001b[1;32m--> 130\u001b[0m \u001b[39mreturn\u001b[39;00m wrapped(\u001b[39m*\u001b[39margs, \u001b[39m*\u001b[39m\u001b[39m*\u001b[39mkwargs)\n",
      "File \u001b[1;32mc:\\Users\\ADMIN\\anaconda3\\Lib\\site-packages\\googleapiclient\\discovery.py:580\u001b[0m, in \u001b[0;36mbuild_from_document\u001b[1;34m(service, base, future, http, developerKey, model, requestBuilder, credentials, client_options, adc_cert_path, adc_key_path, always_use_jwt_access)\u001b[0m\n\u001b[0;32m    577\u001b[0m \u001b[39m# If the user didn't pass in credentials, attempt to acquire application\u001b[39;00m\n\u001b[0;32m    578\u001b[0m \u001b[39m# default credentials.\u001b[39;00m\n\u001b[0;32m    579\u001b[0m \u001b[39mif\u001b[39;00m credentials \u001b[39mis\u001b[39;00m \u001b[39mNone\u001b[39;00m:\n\u001b[1;32m--> 580\u001b[0m     credentials \u001b[39m=\u001b[39m _auth\u001b[39m.\u001b[39mdefault_credentials(\n\u001b[0;32m    581\u001b[0m         scopes\u001b[39m=\u001b[39mclient_options\u001b[39m.\u001b[39mscopes,\n\u001b[0;32m    582\u001b[0m         quota_project_id\u001b[39m=\u001b[39mclient_options\u001b[39m.\u001b[39mquota_project_id,\n\u001b[0;32m    583\u001b[0m     )\n\u001b[0;32m    585\u001b[0m \u001b[39m# The credentials need to be scoped.\u001b[39;00m\n\u001b[0;32m    586\u001b[0m \u001b[39m# If the user provided scopes via client_options don't override them\u001b[39;00m\n\u001b[0;32m    587\u001b[0m \u001b[39mif\u001b[39;00m \u001b[39mnot\u001b[39;00m client_options\u001b[39m.\u001b[39mscopes:\n",
      "File \u001b[1;32mc:\\Users\\ADMIN\\anaconda3\\Lib\\site-packages\\googleapiclient\\_auth.py:57\u001b[0m, in \u001b[0;36mdefault_credentials\u001b[1;34m(scopes, quota_project_id)\u001b[0m\n\u001b[0;32m     55\u001b[0m \u001b[39m\u001b[39m\u001b[39m\"\"\"Returns Application Default Credentials.\"\"\"\u001b[39;00m\n\u001b[0;32m     56\u001b[0m \u001b[39mif\u001b[39;00m HAS_GOOGLE_AUTH:\n\u001b[1;32m---> 57\u001b[0m     credentials, _ \u001b[39m=\u001b[39m google\u001b[39m.\u001b[39mauth\u001b[39m.\u001b[39mdefault(\n\u001b[0;32m     58\u001b[0m         scopes\u001b[39m=\u001b[39mscopes, quota_project_id\u001b[39m=\u001b[39mquota_project_id\n\u001b[0;32m     59\u001b[0m     )\n\u001b[0;32m     60\u001b[0m     \u001b[39mreturn\u001b[39;00m credentials\n\u001b[0;32m     61\u001b[0m \u001b[39melif\u001b[39;00m HAS_OAUTH2CLIENT:\n",
      "File \u001b[1;32mc:\\Users\\ADMIN\\anaconda3\\Lib\\site-packages\\google\\auth\\_default.py:692\u001b[0m, in \u001b[0;36mdefault\u001b[1;34m(scopes, request, quota_project_id, default_scopes)\u001b[0m\n\u001b[0;32m    684\u001b[0m             _LOGGER\u001b[39m.\u001b[39mwarning(\n\u001b[0;32m    685\u001b[0m                 \u001b[39m\"\u001b[39m\u001b[39mNo project ID could be determined. Consider running \u001b[39m\u001b[39m\"\u001b[39m\n\u001b[0;32m    686\u001b[0m                 \u001b[39m\"\u001b[39m\u001b[39m`gcloud config set project` or setting the \u001b[39m\u001b[39m%s\u001b[39;00m\u001b[39m \u001b[39m\u001b[39m\"\u001b[39m\n\u001b[0;32m    687\u001b[0m                 \u001b[39m\"\u001b[39m\u001b[39menvironment variable\u001b[39m\u001b[39m\"\u001b[39m,\n\u001b[0;32m    688\u001b[0m                 environment_vars\u001b[39m.\u001b[39mPROJECT,\n\u001b[0;32m    689\u001b[0m             )\n\u001b[0;32m    690\u001b[0m         \u001b[39mreturn\u001b[39;00m credentials, effective_project_id\n\u001b[1;32m--> 692\u001b[0m \u001b[39mraise\u001b[39;00m exceptions\u001b[39m.\u001b[39mDefaultCredentialsError(_CLOUD_SDK_MISSING_CREDENTIALS)\n",
      "\u001b[1;31mDefaultCredentialsError\u001b[0m: Your default credentials were not found. To set up Application Default Credentials, see https://cloud.google.com/docs/authentication/external/set-up-adc for more information."
     ]
    }
   ],
   "source": [
    "api_key = ''\n",
    "channel_id = \"UCmFj0ZKQpGWmxW3pcz2U4QQ\"   \n",
    "youtube= build('youtube','v3',developerKey=api_key) #created a youtube service \n",
    "channel_ids = [\"UCnz-ZXXER4jOvuED5trXfEA\",\"UCjWY5hREA6FFYrthD0rZNIw\",\"UCBJycsmduvYEL83R_U4JriQ\",\"UCb1GdqUqArXMQ3RS86lqqOw\",\n",
    "               \"UCiT9RITQ9PW6BhXK0y2jaeg\"]"
   ]
  },
  {
   "cell_type": "code",
   "execution_count": null,
   "metadata": {},
   "outputs": [],
   "source": [
    "# defining function to get channel statistics , it will return channel name, statistics i.e., \n",
    "def get_channel_stats(youtube,channel_id):\n",
    "    all_data=[]\n",
    "    request = youtube.channels().list(\n",
    "            part=\"snippet,contentDetails,statistics\",\n",
    "            id=\",\".join(channel_ids)\n",
    "        )\n",
    "    response= request.execute()\n",
    "    for i in range(len(response['items'])):\n",
    "        data = dict(Channel_name= response['items'][i]['snippet']['title'],\n",
    "                    Playlist_Id= response['items'][i]['contentDetails']['relatedPlaylists']['uploads'],\n",
    "                    Subscribers=response['items'][i]['statistics']['subscriberCount'],\n",
    "                    Views=response['items'][i]['statistics']['viewCount'],\n",
    "                    Total_videos=response['items'][i]['statistics']['videoCount'])\n",
    "        all_data.append(data)\n",
    "    return all_data"
   ]
  },
  {
   "cell_type": "code",
   "execution_count": null,
   "metadata": {},
   "outputs": [],
   "source": [
    "channel_statistics=get_channel_stats(youtube,channel_ids)"
   ]
  },
  {
   "cell_type": "code",
   "execution_count": null,
   "metadata": {},
   "outputs": [
    {
     "data": {
      "text/plain": [
       "[{'Channel_name': 'Ken Jee',\n",
       "  'Playlist_Id': 'UUiT9RITQ9PW6BhXK0y2jaeg',\n",
       "  'Subscribers': '249000',\n",
       "  'Views': '8419999',\n",
       "  'Total_videos': '282'},\n",
       " {'Channel_name': 'iNeuron Intelligence',\n",
       "  'Playlist_Id': 'UUb1GdqUqArXMQ3RS86lqqOw',\n",
       "  'Subscribers': '62800',\n",
       "  'Views': '364878',\n",
       "  'Total_videos': '99'},\n",
       " {'Channel_name': 'Krish Naik Hindi',\n",
       "  'Playlist_Id': 'UUjWY5hREA6FFYrthD0rZNIw',\n",
       "  'Subscribers': '68400',\n",
       "  'Views': '2786882',\n",
       "  'Total_videos': '397'},\n",
       " {'Channel_name': 'techTFQ',\n",
       "  'Playlist_Id': 'UUnz-ZXXER4jOvuED5trXfEA',\n",
       "  'Subscribers': '229000',\n",
       "  'Views': '11582786',\n",
       "  'Total_videos': '94'},\n",
       " {'Channel_name': 'Marques Brownlee',\n",
       "  'Playlist_Id': 'UUBJycsmduvYEL83R_U4JriQ',\n",
       "  'Subscribers': '17400000',\n",
       "  'Views': '3693432826',\n",
       "  'Total_videos': '1576'}]"
      ]
     },
     "execution_count": 8,
     "metadata": {},
     "output_type": "execute_result"
    }
   ],
   "source": [
    "channel_statistics"
   ]
  },
  {
   "cell_type": "code",
   "execution_count": null,
   "metadata": {},
   "outputs": [
    {
     "data": {
      "text/html": [
       "<div>\n",
       "<style scoped>\n",
       "    .dataframe tbody tr th:only-of-type {\n",
       "        vertical-align: middle;\n",
       "    }\n",
       "\n",
       "    .dataframe tbody tr th {\n",
       "        vertical-align: top;\n",
       "    }\n",
       "\n",
       "    .dataframe thead th {\n",
       "        text-align: right;\n",
       "    }\n",
       "</style>\n",
       "<table border=\"1\" class=\"dataframe\">\n",
       "  <thead>\n",
       "    <tr style=\"text-align: right;\">\n",
       "      <th></th>\n",
       "      <th>Channel_name</th>\n",
       "      <th>Playlist_Id</th>\n",
       "      <th>Subscribers</th>\n",
       "      <th>Views</th>\n",
       "      <th>Total_videos</th>\n",
       "    </tr>\n",
       "  </thead>\n",
       "  <tbody>\n",
       "    <tr>\n",
       "      <th>0</th>\n",
       "      <td>Ken Jee</td>\n",
       "      <td>UUiT9RITQ9PW6BhXK0y2jaeg</td>\n",
       "      <td>249000</td>\n",
       "      <td>8419999</td>\n",
       "      <td>282</td>\n",
       "    </tr>\n",
       "    <tr>\n",
       "      <th>1</th>\n",
       "      <td>iNeuron Intelligence</td>\n",
       "      <td>UUb1GdqUqArXMQ3RS86lqqOw</td>\n",
       "      <td>62800</td>\n",
       "      <td>364878</td>\n",
       "      <td>99</td>\n",
       "    </tr>\n",
       "    <tr>\n",
       "      <th>2</th>\n",
       "      <td>Krish Naik Hindi</td>\n",
       "      <td>UUjWY5hREA6FFYrthD0rZNIw</td>\n",
       "      <td>68400</td>\n",
       "      <td>2786882</td>\n",
       "      <td>397</td>\n",
       "    </tr>\n",
       "    <tr>\n",
       "      <th>3</th>\n",
       "      <td>techTFQ</td>\n",
       "      <td>UUnz-ZXXER4jOvuED5trXfEA</td>\n",
       "      <td>229000</td>\n",
       "      <td>11582786</td>\n",
       "      <td>94</td>\n",
       "    </tr>\n",
       "    <tr>\n",
       "      <th>4</th>\n",
       "      <td>Marques Brownlee</td>\n",
       "      <td>UUBJycsmduvYEL83R_U4JriQ</td>\n",
       "      <td>17400000</td>\n",
       "      <td>3693432826</td>\n",
       "      <td>1576</td>\n",
       "    </tr>\n",
       "  </tbody>\n",
       "</table>\n",
       "</div>"
      ],
      "text/plain": [
       "           Channel_name               Playlist_Id Subscribers       Views  \\\n",
       "0               Ken Jee  UUiT9RITQ9PW6BhXK0y2jaeg      249000     8419999   \n",
       "1  iNeuron Intelligence  UUb1GdqUqArXMQ3RS86lqqOw       62800      364878   \n",
       "2      Krish Naik Hindi  UUjWY5hREA6FFYrthD0rZNIw       68400     2786882   \n",
       "3               techTFQ  UUnz-ZXXER4jOvuED5trXfEA      229000    11582786   \n",
       "4      Marques Brownlee  UUBJycsmduvYEL83R_U4JriQ    17400000  3693432826   \n",
       "\n",
       "  Total_videos  \n",
       "0          282  \n",
       "1           99  \n",
       "2          397  \n",
       "3           94  \n",
       "4         1576  "
      ]
     },
     "execution_count": 9,
     "metadata": {},
     "output_type": "execute_result"
    }
   ],
   "source": [
    "channel_data= pd.DataFrame(channel_statistics)\n",
    "channel_data"
   ]
  },
  {
   "cell_type": "code",
   "execution_count": null,
   "metadata": {},
   "outputs": [],
   "source": []
  },
  {
   "cell_type": "code",
   "execution_count": null,
   "metadata": {},
   "outputs": [],
   "source": [
    "channel_data.dtypes"
   ]
  },
  {
   "cell_type": "code",
   "execution_count": null,
   "metadata": {},
   "outputs": [],
   "source": [
    "channel_data['Subscribers']=pd.to_numeric(channel_data['Subscribers'])\n",
    "channel_data['Views']=pd.to_numeric(channel_data['Views'])\n",
    "channel_data['Total_videos']=pd.to_numeric(channel_data['Total_videos'])\n",
    "channel_data.dtypes"
   ]
  },
  {
   "cell_type": "code",
   "execution_count": null,
   "metadata": {},
   "outputs": [],
   "source": [
    "sns.set(rc={'figure.figsize':(10,8)})\n",
    "sns.barplot(x='Channel_name',y='Subscribers',data=channel_data)"
   ]
  },
  {
   "cell_type": "code",
   "execution_count": null,
   "metadata": {},
   "outputs": [],
   "source": [
    "sns.barplot(x='Channel_name',y='Views',data=channel_data)\n"
   ]
  },
  {
   "cell_type": "code",
   "execution_count": null,
   "metadata": {},
   "outputs": [],
   "source": [
    "sns.barplot(x='Channel_name',y='Total_videos',data=channel_data)\n"
   ]
  },
  {
   "cell_type": "code",
   "execution_count": null,
   "metadata": {},
   "outputs": [],
   "source": [
    "#so we have extracted the channel details for a few channels and then visualized them,\n",
    "#Now we will try to scrap, analyze, visualize video details for a particular channel."
   ]
  },
  {
   "cell_type": "code",
   "execution_count": null,
   "metadata": {},
   "outputs": [],
   "source": [
    "playlist_id= channel_data.loc[channel_data['Channel_name']=='Ken Jee','Playlist_Id'].iloc[0]\n",
    "playlist_id"
   ]
  },
  {
   "cell_type": "code",
   "execution_count": null,
   "metadata": {},
   "outputs": [],
   "source": [
    "## defining function to get video ids\n",
    "'''\n",
    "def get_video_ids(_youtube,playlist_id):\n",
    "    \n",
    "    request = youtube.playlistItems().list(\n",
    "        part='contentDetails',\n",
    "        playlistId=playlist_id,\n",
    "        maxResults=50\n",
    "    )\n",
    "    response= request.execute()\n",
    "\n",
    "    video_ids=[]\n",
    "    for i in range(len(response['items'])):\n",
    "        video_ids.append(response['items'][i]['contentDetails']['videoId'])\n",
    "    return video_ids\n",
    "    '''"
   ]
  },
  {
   "cell_type": "code",
   "execution_count": null,
   "metadata": {},
   "outputs": [],
   "source": [
    "#get_video_ids(youtube,playlist_id)"
   ]
  },
  {
   "cell_type": "code",
   "execution_count": null,
   "metadata": {},
   "outputs": [],
   "source": [
    "request = youtube.playlistItems().list(\n",
    "        part='contentDetails',\n",
    "        playlistId=playlist_id,\n",
    "        maxResults=50\n",
    ")\n",
    "response= request.execute()\n",
    "response\n",
    "\n",
    "# it can be seen from the bottom of output , the page infor shows that we are getting 5 results\n",
    "#  as output while there are 282 more records, so to get all records \n",
    "# we have to set parameter maxResults=50 , so if all records are under 50 then all will be shown ,\n",
    "#  but if higher than 50 then there will be \"nextPageToken\" shown in output , it will be needed to fetch all the 282 records.\n",
    "\n",
    "#By putting all the output in any jsonformatter  , we can see it in a structured manner and\n",
    "# there in that format of dictionary , we can see nextPageToken "
   ]
  },
  {
   "cell_type": "code",
   "execution_count": null,
   "metadata": {},
   "outputs": [],
   "source": [
    "## defining function to get video ids\n",
    "def get_video_ids(_youtube,playlist_id):\n",
    "    \n",
    "    request = youtube.playlistItems().list(\n",
    "        part='contentDetails',\n",
    "        playlistId=playlist_id,\n",
    "        maxResults=50\n",
    "    )\n",
    "    response= request.execute()\n",
    "\n",
    "    video_ids=[]\n",
    "    for i in range(len(response['items'])):\n",
    "        video_ids.append(response['items'][i]['contentDetails']['videoId'])\n",
    "    _nextPageToken= response.get('nextPageToken')\n",
    "    morePages=True\n",
    "    while morePages:\n",
    "        if _nextPageToken is None:\n",
    "            morePages= False\n",
    "        else:\n",
    "            request = youtube.playlistItems().list(\n",
    "                part='contentDetails',\n",
    "                playlistId=playlist_id,\n",
    "                maxResults=50,\n",
    "                pageToken=_nextPageToken)\n",
    "            response= request.execute()\n",
    "\n",
    "            for i in range(len(response['items'])):\n",
    "                video_ids.append(response['items'][i]['contentDetails']['videoId'])\n",
    "                \n",
    "            _nextPageToken= response.get('nextPageToken')\n",
    "\n",
    "    return video_ids"
   ]
  },
  {
   "cell_type": "code",
   "execution_count": null,
   "metadata": {},
   "outputs": [],
   "source": [
    "video_ids=get_video_ids(youtube,playlist_id)\n",
    "video_ids\n"
   ]
  },
  {
   "cell_type": "code",
   "execution_count": null,
   "metadata": {},
   "outputs": [],
   "source": [
    "##defining function to get details of the viddos using videoids\n",
    "def get_video_details(youtube,video_ids):\n",
    "    all_video_stats=[]\n",
    "    for i in range(0,len(video_ids),50):\n",
    "        request= youtube.videos().list(\n",
    "            part='snippet,statistics',\n",
    "            id=','.join(video_ids[i:i+50]))\n",
    "        response = request.execute()\n",
    "\n",
    "        for video in response['items']:\n",
    "            video_stats=dict(Title=video['snippet']['title'],\n",
    "                            Published_date= video['snippet']['publishedAt'],\n",
    "                            Views= video['statistics']['viewCount'],\n",
    "                            Likes= video['statistics']['likeCount'],\n",
    "                            Favourites= video['statistics']['favoriteCount'],\n",
    "                            Comments= video['statistics']['commentCount'])\n",
    "\n",
    "            all_video_stats.append(video_stats)\n",
    "    return all_video_stats\n"
   ]
  },
  {
   "cell_type": "code",
   "execution_count": null,
   "metadata": {},
   "outputs": [],
   "source": [
    "get_video_details(youtube , video_ids )"
   ]
  },
  {
   "cell_type": "code",
   "execution_count": null,
   "metadata": {},
   "outputs": [],
   "source": [
    "def get_video_details1(youtube,video_ids):\n",
    "     request=youtube.videos().list(\n",
    "            part='snippet,statistics',\n",
    "            id=','.join(video_ids[:50]))\n",
    "     response = request.execute()\n",
    "     return response"
   ]
  },
  {
   "cell_type": "code",
   "execution_count": null,
   "metadata": {},
   "outputs": [],
   "source": [
    "Video_Details=get_video_details(youtube, video_ids)\n",
    "Video_Details"
   ]
  },
  {
   "cell_type": "code",
   "execution_count": null,
   "metadata": {},
   "outputs": [],
   "source": [
    "video_data= pd.DataFrame(Video_Details)\n",
    "video_data"
   ]
  },
  {
   "cell_type": "code",
   "execution_count": null,
   "metadata": {},
   "outputs": [],
   "source": [
    "video_data['Published_date']= pd.to_datetime(video_data['Published_date']).dt.date\n",
    "video_data['Views']=pd.to_numeric(video_data['Views'])\n",
    "video_data['Likes']=pd.to_numeric(video_data['Likes'])\n",
    "video_data['Comments']=pd.to_numeric(video_data['Comments'])\n",
    "video_data['Favourites']=pd.to_numeric(video_data['Favourites'])"
   ]
  },
  {
   "cell_type": "code",
   "execution_count": null,
   "metadata": {},
   "outputs": [],
   "source": [
    "video_data"
   ]
  },
  {
   "cell_type": "code",
   "execution_count": null,
   "metadata": {},
   "outputs": [],
   "source": [
    "top_10_videos= video_data.sort_values(by='Views',ascending=False).head(10)\n",
    "top_10_videos\n"
   ]
  },
  {
   "cell_type": "code",
   "execution_count": null,
   "metadata": {},
   "outputs": [],
   "source": [
    "ax1= sns.barplot(x='Views',y='Title', data= top_10_videos)"
   ]
  },
  {
   "cell_type": "code",
   "execution_count": null,
   "metadata": {},
   "outputs": [],
   "source": [
    "#on an average how much video is he posting"
   ]
  },
  {
   "cell_type": "code",
   "execution_count": null,
   "metadata": {},
   "outputs": [],
   "source": [
    "video_data['Month']= pd.to_datetime(video_data['Published_date']).dt.strftime('%b')\n",
    "video_data"
   ]
  },
  {
   "cell_type": "code",
   "execution_count": null,
   "metadata": {},
   "outputs": [],
   "source": [
    "videos_per_month= video_data.groupby('Month', as_index=False).size()\n",
    "videos_per_month"
   ]
  },
  {
   "cell_type": "code",
   "execution_count": null,
   "metadata": {},
   "outputs": [],
   "source": [
    "sort_order=['Jan','Feb','Mar','Apr','May','Jun',\n",
    "            'Jul','Aug','Sep','Oct','Nov','Dec']"
   ]
  },
  {
   "cell_type": "code",
   "execution_count": null,
   "metadata": {},
   "outputs": [],
   "source": [
    "videos_per_month.index= pd.CategoricalIndex(videos_per_month['Month'],categories=sort_order,ordered=True)"
   ]
  },
  {
   "cell_type": "code",
   "execution_count": null,
   "metadata": {},
   "outputs": [],
   "source": [
    "videos_per_month=videos_per_month.sort_index()"
   ]
  },
  {
   "cell_type": "code",
   "execution_count": null,
   "metadata": {},
   "outputs": [],
   "source": [
    "ax2= sns.barplot(x='Month',y='size',data=videos_per_month)"
   ]
  },
  {
   "cell_type": "code",
   "execution_count": null,
   "metadata": {},
   "outputs": [],
   "source": [
    "video_data.to_csv('videoDetails_ken_jee.csv')"
   ]
  },
  {
   "cell_type": "code",
   "execution_count": null,
   "metadata": {},
   "outputs": [],
   "source": []
  }
 ],
 "metadata": {
  "kernelspec": {
   "display_name": "base",
   "language": "python",
   "name": "python3"
  },
  "language_info": {
   "codemirror_mode": {
    "name": "ipython",
    "version": 3
   },
   "file_extension": ".py",
   "mimetype": "text/x-python",
   "name": "python",
   "nbconvert_exporter": "python",
   "pygments_lexer": "ipython3",
   "version": "3.11.3"
  },
  "orig_nbformat": 4
 },
 "nbformat": 4,
 "nbformat_minor": 2
}
